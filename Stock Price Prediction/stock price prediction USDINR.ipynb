{
 "cells": [
  {
   "cell_type": "code",
   "execution_count": 1,
   "metadata": {},
   "outputs": [
    {
     "name": "stderr",
     "output_type": "stream",
     "text": [
      "C:\\Users\\bhuvi\\anaconda3\\lib\\site-packages\\scipy\\__init__.py:155: UserWarning: A NumPy version >=1.18.5 and <1.25.0 is required for this version of SciPy (detected version 1.26.3\n",
      "  warnings.warn(f\"A NumPy version >={np_minversion} and <{np_maxversion}\"\n"
     ]
    },
    {
     "name": "stdout",
     "output_type": "stream",
     "text": [
      "WARNING:tensorflow:From C:\\Users\\bhuvi\\anaconda3\\lib\\site-packages\\keras\\src\\losses.py:2976: The name tf.losses.sparse_softmax_cross_entropy is deprecated. Please use tf.compat.v1.losses.sparse_softmax_cross_entropy instead.\n",
      "\n"
     ]
    }
   ],
   "source": [
    "import numpy as np \n",
    "import pandas as pd \n",
    "import matplotlib.pyplot as plt \n",
    "from sklearn.preprocessing import MinMaxScaler\n",
    "from keras.models import Sequential\n",
    "from keras.layers import Dense,LSTM,Dropout"
   ]
  },
  {
   "cell_type": "code",
   "execution_count": 2,
   "metadata": {},
   "outputs": [
    {
     "data": {
      "text/html": [
       "<div>\n",
       "<style scoped>\n",
       "    .dataframe tbody tr th:only-of-type {\n",
       "        vertical-align: middle;\n",
       "    }\n",
       "\n",
       "    .dataframe tbody tr th {\n",
       "        vertical-align: top;\n",
       "    }\n",
       "\n",
       "    .dataframe thead th {\n",
       "        text-align: right;\n",
       "    }\n",
       "</style>\n",
       "<table border=\"1\" class=\"dataframe\">\n",
       "  <thead>\n",
       "    <tr style=\"text-align: right;\">\n",
       "      <th></th>\n",
       "      <th>Date</th>\n",
       "      <th>Open</th>\n",
       "      <th>High</th>\n",
       "      <th>Low</th>\n",
       "      <th>Close</th>\n",
       "      <th>Adj Close</th>\n",
       "    </tr>\n",
       "  </thead>\n",
       "  <tbody>\n",
       "    <tr>\n",
       "      <th>0</th>\n",
       "      <td>01-01-2008</td>\n",
       "      <td>39.419998</td>\n",
       "      <td>39.430000</td>\n",
       "      <td>39.380001</td>\n",
       "      <td>39.244999</td>\n",
       "      <td>39.244999</td>\n",
       "    </tr>\n",
       "    <tr>\n",
       "      <th>1</th>\n",
       "      <td>02-01-2008</td>\n",
       "      <td>39.400002</td>\n",
       "      <td>39.437500</td>\n",
       "      <td>39.325001</td>\n",
       "      <td>39.375000</td>\n",
       "      <td>39.375000</td>\n",
       "    </tr>\n",
       "    <tr>\n",
       "      <th>2</th>\n",
       "      <td>03-01-2008</td>\n",
       "      <td>39.325001</td>\n",
       "      <td>39.465000</td>\n",
       "      <td>39.195000</td>\n",
       "      <td>39.353001</td>\n",
       "      <td>39.353001</td>\n",
       "    </tr>\n",
       "    <tr>\n",
       "      <th>3</th>\n",
       "      <td>04-01-2008</td>\n",
       "      <td>39.195000</td>\n",
       "      <td>39.349998</td>\n",
       "      <td>39.084000</td>\n",
       "      <td>39.095001</td>\n",
       "      <td>39.095001</td>\n",
       "    </tr>\n",
       "    <tr>\n",
       "      <th>4</th>\n",
       "      <td>07-01-2008</td>\n",
       "      <td>39.340000</td>\n",
       "      <td>39.340000</td>\n",
       "      <td>39.084999</td>\n",
       "      <td>39.213001</td>\n",
       "      <td>39.213001</td>\n",
       "    </tr>\n",
       "  </tbody>\n",
       "</table>\n",
       "</div>"
      ],
      "text/plain": [
       "         Date       Open       High        Low      Close  Adj Close\n",
       "0  01-01-2008  39.419998  39.430000  39.380001  39.244999  39.244999\n",
       "1  02-01-2008  39.400002  39.437500  39.325001  39.375000  39.375000\n",
       "2  03-01-2008  39.325001  39.465000  39.195000  39.353001  39.353001\n",
       "3  04-01-2008  39.195000  39.349998  39.084000  39.095001  39.095001\n",
       "4  07-01-2008  39.340000  39.340000  39.084999  39.213001  39.213001"
      ]
     },
     "execution_count": 2,
     "metadata": {},
     "output_type": "execute_result"
    }
   ],
   "source": [
    "data = pd.read_csv(\"C:/Users/bhuvi/Downloads/Stock Market Data/Stock Market Data/USDINR 2008_2023.csv\")\n",
    "data.head()"
   ]
  },
  {
   "cell_type": "code",
   "execution_count": 3,
   "metadata": {},
   "outputs": [
    {
     "name": "stdout",
     "output_type": "stream",
     "text": [
      "<class 'pandas.core.frame.DataFrame'>\n",
      "RangeIndex: 3971 entries, 0 to 3970\n",
      "Data columns (total 6 columns):\n",
      " #   Column     Non-Null Count  Dtype  \n",
      "---  ------     --------------  -----  \n",
      " 0   Date       3971 non-null   object \n",
      " 1   Open       3947 non-null   float64\n",
      " 2   High       3947 non-null   float64\n",
      " 3   Low        3947 non-null   float64\n",
      " 4   Close      3947 non-null   float64\n",
      " 5   Adj Close  3947 non-null   float64\n",
      "dtypes: float64(5), object(1)\n",
      "memory usage: 186.3+ KB\n"
     ]
    }
   ],
   "source": [
    "data.info()"
   ]
  },
  {
   "cell_type": "code",
   "execution_count": 4,
   "metadata": {},
   "outputs": [],
   "source": [
    "data[\"Close\"]=pd.to_numeric(data.Close,errors='coerce')\n",
    "data = data.dropna()\n",
    "trainData = data.iloc[:,4:5].values"
   ]
  },
  {
   "cell_type": "code",
   "execution_count": 5,
   "metadata": {},
   "outputs": [
    {
     "name": "stdout",
     "output_type": "stream",
     "text": [
      "<class 'pandas.core.frame.DataFrame'>\n",
      "Int64Index: 3947 entries, 0 to 3970\n",
      "Data columns (total 6 columns):\n",
      " #   Column     Non-Null Count  Dtype  \n",
      "---  ------     --------------  -----  \n",
      " 0   Date       3947 non-null   object \n",
      " 1   Open       3947 non-null   float64\n",
      " 2   High       3947 non-null   float64\n",
      " 3   Low        3947 non-null   float64\n",
      " 4   Close      3947 non-null   float64\n",
      " 5   Adj Close  3947 non-null   float64\n",
      "dtypes: float64(5), object(1)\n",
      "memory usage: 215.9+ KB\n"
     ]
    }
   ],
   "source": [
    "data.info()"
   ]
  },
  {
   "cell_type": "code",
   "execution_count": 6,
   "metadata": {},
   "outputs": [
    {
     "data": {
      "text/plain": [
       "(3947, 1)"
      ]
     },
     "execution_count": 6,
     "metadata": {},
     "output_type": "execute_result"
    }
   ],
   "source": [
    "sc = MinMaxScaler(feature_range=(0,1))\n",
    "trainData = sc.fit_transform(trainData)\n",
    "trainData.shape"
   ]
  },
  {
   "cell_type": "code",
   "execution_count": 7,
   "metadata": {},
   "outputs": [],
   "source": [
    "X_train = []\n",
    "y_train = []\n",
    "\n",
    "for i in range(60, len(trainData)):  # Adjusted loop bounds to match the length of trainData\n",
    "    X_train.append(trainData[i-60:i, 0])\n",
    "    y_train.append(trainData[i, 0])\n",
    "\n",
    "X_train = np.array(X_train)\n",
    "y_train = np.array(y_train)\n"
   ]
  },
  {
   "cell_type": "code",
   "execution_count": 8,
   "metadata": {},
   "outputs": [
    {
     "data": {
      "text/plain": [
       "(3887, 60, 1)"
      ]
     },
     "execution_count": 8,
     "metadata": {},
     "output_type": "execute_result"
    }
   ],
   "source": [
    "X_train = np.reshape(X_train,(X_train.shape[0],X_train.shape[1],1)) #adding the batch_size axis\n",
    "X_train.shape"
   ]
  },
  {
   "cell_type": "code",
   "execution_count": 9,
   "metadata": {},
   "outputs": [
    {
     "name": "stdout",
     "output_type": "stream",
     "text": [
      "WARNING:tensorflow:From C:\\Users\\bhuvi\\anaconda3\\lib\\site-packages\\keras\\src\\backend.py:873: The name tf.get_default_graph is deprecated. Please use tf.compat.v1.get_default_graph instead.\n",
      "\n",
      "WARNING:tensorflow:From C:\\Users\\bhuvi\\anaconda3\\lib\\site-packages\\keras\\src\\optimizers\\__init__.py:309: The name tf.train.Optimizer is deprecated. Please use tf.compat.v1.train.Optimizer instead.\n",
      "\n"
     ]
    }
   ],
   "source": [
    "model = Sequential()\n",
    "\n",
    "model.add(LSTM(units=100, return_sequences = True, input_shape =(X_train.shape[1],1)))\n",
    "model.add(Dropout(0.2))\n",
    "\n",
    "model.add(LSTM(units=100, return_sequences = True))\n",
    "model.add(Dropout(0.2))\n",
    "\n",
    "model.add(LSTM(units=100, return_sequences = True))\n",
    "model.add(Dropout(0.2))\n",
    "\n",
    "model.add(LSTM(units=100, return_sequences = False))\n",
    "model.add(Dropout(0.2))\n",
    "\n",
    "model.add(Dense(units =1))\n",
    "model.compile(optimizer='adam',loss=\"mean_squared_error\")"
   ]
  },
  {
   "cell_type": "code",
   "execution_count": 23,
   "metadata": {},
   "outputs": [
    {
     "name": "stdout",
     "output_type": "stream",
     "text": [
      "Epoch 1/25\n",
      "122/122 - 14s - loss: 0.0016 - 14s/epoch - 116ms/step\n",
      "Epoch 2/25\n",
      "122/122 - 14s - loss: 0.0018 - 14s/epoch - 113ms/step\n",
      "Epoch 3/25\n",
      "122/122 - 14s - loss: 0.0016 - 14s/epoch - 111ms/step\n",
      "Epoch 4/25\n",
      "122/122 - 14s - loss: 0.0018 - 14s/epoch - 111ms/step\n",
      "Epoch 5/25\n",
      "122/122 - 13s - loss: 0.0015 - 13s/epoch - 110ms/step\n",
      "Epoch 6/25\n",
      "122/122 - 13s - loss: 0.0014 - 13s/epoch - 109ms/step\n",
      "Epoch 7/25\n",
      "122/122 - 14s - loss: 0.0013 - 14s/epoch - 111ms/step\n",
      "Epoch 8/25\n",
      "122/122 - 13s - loss: 0.0013 - 13s/epoch - 110ms/step\n",
      "Epoch 9/25\n",
      "122/122 - 13s - loss: 0.0014 - 13s/epoch - 105ms/step\n",
      "Epoch 10/25\n",
      "122/122 - 13s - loss: 0.0012 - 13s/epoch - 109ms/step\n",
      "Epoch 11/25\n",
      "122/122 - 13s - loss: 0.0012 - 13s/epoch - 109ms/step\n",
      "Epoch 12/25\n",
      "122/122 - 14s - loss: 0.0011 - 14s/epoch - 111ms/step\n",
      "Epoch 13/25\n",
      "122/122 - 14s - loss: 0.0012 - 14s/epoch - 111ms/step\n",
      "Epoch 14/25\n",
      "122/122 - 13s - loss: 0.0010 - 13s/epoch - 110ms/step\n",
      "Epoch 15/25\n",
      "122/122 - 13s - loss: 0.0010 - 13s/epoch - 109ms/step\n",
      "Epoch 16/25\n",
      "122/122 - 13s - loss: 0.0010 - 13s/epoch - 110ms/step\n",
      "Epoch 17/25\n",
      "122/122 - 13s - loss: 9.9075e-04 - 13s/epoch - 110ms/step\n",
      "Epoch 18/25\n",
      "122/122 - 13s - loss: 0.0010 - 13s/epoch - 110ms/step\n",
      "Epoch 19/25\n",
      "122/122 - 14s - loss: 9.7628e-04 - 14s/epoch - 112ms/step\n",
      "Epoch 20/25\n",
      "122/122 - 14s - loss: 9.0817e-04 - 14s/epoch - 111ms/step\n",
      "Epoch 21/25\n",
      "122/122 - 14s - loss: 8.8928e-04 - 14s/epoch - 112ms/step\n",
      "Epoch 22/25\n",
      "122/122 - 13s - loss: 8.4273e-04 - 13s/epoch - 110ms/step\n",
      "Epoch 23/25\n",
      "122/122 - 13s - loss: 7.9253e-04 - 13s/epoch - 110ms/step\n",
      "Epoch 24/25\n",
      "122/122 - 14s - loss: 8.1613e-04 - 14s/epoch - 113ms/step\n",
      "Epoch 25/25\n",
      "122/122 - 13s - loss: 8.0828e-04 - 13s/epoch - 110ms/step\n"
     ]
    }
   ],
   "source": [
    "hist = model.fit(X_train, y_train, epochs = 25, batch_size = 32, verbose=2)"
   ]
  },
  {
   "cell_type": "code",
   "execution_count": 24,
   "metadata": {},
   "outputs": [
    {
     "data": {
      "image/png": "[encoded data removed]",
      "text/plain": [
       "<Figure size 640x480 with 1 Axes>"
      ]
     },
     "metadata": {},
     "output_type": "display_data"
    }
   ],
   "source": [
    "plt.plot(hist.history['loss'])\n",
    "plt.title('Training model loss')\n",
    "plt.ylabel('loss')\n",
    "plt.xlabel('epoch')\n",
    "plt.legend(['train'], loc='upper left')\n",
    "plt.show()"
   ]
  },
  {
   "cell_type": "code",
   "execution_count": 25,
   "metadata": {},
   "outputs": [
    {
     "data": {
      "text/plain": [
       "(141, 60, 1)"
      ]
     },
     "execution_count": 25,
     "metadata": {},
     "output_type": "execute_result"
    }
   ],
   "source": [
    "testData = pd.read_csv(\"C:/Users/bhuvi/Downloads/Stock Market Data/Stock Market Data/test_usdinr.csv\")\n",
    "testData[\"Close\"]=pd.to_numeric(testData.Close,errors='coerce')\n",
    "testData = testData.dropna()\n",
    "testData = testData.iloc[:,4:5]\n",
    "y_test = testData.iloc[60:,0:].values \n",
    "#input array for the model\n",
    "inputClosing = testData.iloc[:,0:].values \n",
    "inputClosing_scaled = sc.transform(inputClosing)\n",
    "inputClosing_scaled.shape\n",
    "X_test = []\n",
    "length = len(testData)\n",
    "timestep = 60\n",
    "for i in range(timestep,length):  \n",
    "    X_test.append(inputClosing_scaled[i-timestep:i,0])\n",
    "X_test = np.array(X_test)\n",
    "X_test = np.reshape(X_test,(X_test.shape[0],X_test.shape[1],1))\n",
    "X_test.shape"
   ]
  },
  {
   "cell_type": "code",
   "execution_count": 26,
   "metadata": {},
   "outputs": [
    {
     "name": "stdout",
     "output_type": "stream",
     "text": [
      "Shape of X_test before reshaping: (141, 60, 1)\n"
     ]
    }
   ],
   "source": [
    "print(\"Shape of X_test before reshaping:\", X_test.shape)\n"
   ]
  },
  {
   "cell_type": "code",
   "execution_count": 27,
   "metadata": {},
   "outputs": [
    {
     "name": "stdout",
     "output_type": "stream",
     "text": [
      "5/5 [==============================] - 0s 28ms/step\n"
     ]
    },
    {
     "data": {
      "text/plain": [
       "array([[0.97858846],\n",
       "       [0.9776688 ],\n",
       "       [0.97632253],\n",
       "       [0.9747667 ],\n",
       "       [0.9732471 ],\n",
       "       [0.97191817],\n",
       "       [0.9708506 ],\n",
       "       [0.9701073 ],\n",
       "       [0.96970975],\n",
       "       [0.96961486],\n",
       "       [0.9697617 ],\n",
       "       [0.970102  ],\n",
       "       [0.970581  ],\n",
       "       [0.97102726],\n",
       "       [0.97135454],\n",
       "       [0.97179866],\n",
       "       [0.97276133],\n",
       "       [0.97426724],\n",
       "       [0.9760641 ],\n",
       "       [0.97776556],\n",
       "       [0.97881687],\n",
       "       [0.9789747 ],\n",
       "       [0.9783227 ],\n",
       "       [0.97710544],\n",
       "       [0.97562677],\n",
       "       [0.9741475 ],\n",
       "       [0.9728673 ],\n",
       "       [0.9718345 ],\n",
       "       [0.9709258 ],\n",
       "       [0.97015005],\n",
       "       [0.9695564 ],\n",
       "       [0.9694475 ],\n",
       "       [0.9698737 ],\n",
       "       [0.97071105],\n",
       "       [0.9718151 ],\n",
       "       [0.97331333],\n",
       "       [0.9752375 ],\n",
       "       [0.9773957 ],\n",
       "       [0.9795671 ],\n",
       "       [0.9816112 ],\n",
       "       [0.9834265 ],\n",
       "       [0.98489255],\n",
       "       [0.9860118 ],\n",
       "       [0.9870513 ],\n",
       "       [0.98814946],\n",
       "       [0.9893459 ],\n",
       "       [0.99049115],\n",
       "       [0.9914894 ],\n",
       "       [0.9922489 ],\n",
       "       [0.9927085 ],\n",
       "       [0.9925157 ],\n",
       "       [0.9916135 ],\n",
       "       [0.99017966],\n",
       "       [0.9885118 ],\n",
       "       [0.98676026],\n",
       "       [0.985203  ],\n",
       "       [0.98402613],\n",
       "       [0.98331124],\n",
       "       [0.98306584],\n",
       "       [0.98345757],\n",
       "       [0.9846082 ],\n",
       "       [0.9864077 ],\n",
       "       [0.9884478 ],\n",
       "       [0.9902866 ],\n",
       "       [0.99157596],\n",
       "       [0.9922503 ],\n",
       "       [0.99245924],\n",
       "       [0.9924288 ],\n",
       "       [0.9924508 ],\n",
       "       [0.9926439 ],\n",
       "       [0.99293613],\n",
       "       [0.9930947 ],\n",
       "       [0.993038  ],\n",
       "       [0.99281853],\n",
       "       [0.9927084 ],\n",
       "       [0.9928287 ],\n",
       "       [0.99316293],\n",
       "       [0.99352515],\n",
       "       [0.9939902 ],\n",
       "       [0.99451935],\n",
       "       [0.9952003 ],\n",
       "       [0.9958982 ],\n",
       "       [0.99641156],\n",
       "       [0.9967295 ],\n",
       "       [0.9968843 ],\n",
       "       [0.996903  ],\n",
       "       [0.9968527 ],\n",
       "       [0.9968035 ],\n",
       "       [0.99674064],\n",
       "       [0.9966917 ],\n",
       "       [0.99668145],\n",
       "       [0.99661845],\n",
       "       [0.99647284],\n",
       "       [0.99616694],\n",
       "       [0.99566144],\n",
       "       [0.99511623],\n",
       "       [0.9947545 ],\n",
       "       [0.99478346],\n",
       "       [0.99517083],\n",
       "       [0.9957755 ],\n",
       "       [0.99775517],\n",
       "       [1.0003239 ],\n",
       "       [1.0025123 ],\n",
       "       [1.0037684 ],\n",
       "       [1.0039734 ],\n",
       "       [1.0032914 ],\n",
       "       [1.0020995 ],\n",
       "       [1.0007488 ],\n",
       "       [0.9994321 ],\n",
       "       [0.99812114],\n",
       "       [0.99694735],\n",
       "       [0.9959799 ],\n",
       "       [0.9953689 ],\n",
       "       [0.9951946 ],\n",
       "       [0.9954447 ],\n",
       "       [0.9961586 ],\n",
       "       [0.9971273 ],\n",
       "       [0.9981034 ],\n",
       "       [0.99894243],\n",
       "       [0.99961174],\n",
       "       [1.0000573 ],\n",
       "       [1.0002831 ],\n",
       "       [1.0002353 ],\n",
       "       [1.0000558 ],\n",
       "       [0.9998104 ],\n",
       "       [0.9995253 ],\n",
       "       [0.9992677 ],\n",
       "       [0.9991354 ],\n",
       "       [0.9991127 ],\n",
       "       [0.99919236],\n",
       "       [0.9992754 ],\n",
       "       [0.9992987 ],\n",
       "       [0.99906766],\n",
       "       [0.99855334],\n",
       "       [0.9978155 ],\n",
       "       [0.9970856 ],\n",
       "       [0.99645025],\n",
       "       [0.9959653 ],\n",
       "       [0.995651  ],\n",
       "       [0.9955036 ],\n",
       "       [0.9955524 ]], dtype=float32)"
      ]
     },
     "execution_count": 27,
     "metadata": {},
     "output_type": "execute_result"
    }
   ],
   "source": [
    "y_pred = model.predict(X_test)\n",
    "y_pred"
   ]
  },
  {
   "cell_type": "code",
   "execution_count": 28,
   "metadata": {},
   "outputs": [],
   "source": [
    "predicted_price = sc.inverse_transform(y_pred)"
   ]
  },
  {
   "cell_type": "code",
   "execution_count": 29,
   "metadata": {},
   "outputs": [
    {
     "data": {
      "image/png": "[encoded data removed]",
      "text/plain": [
       "<Figure size 640x480 with 1 Axes>"
      ]
     },
     "metadata": {},
     "output_type": "display_data"
    }
   ],
   "source": [
    "plt.plot(y_test, color = 'red', label = 'Actual Stock Price')\n",
    "plt.plot(predicted_price, color = 'green', label = 'Predicted Stock Price')\n",
    "plt.title('Google stock price prediction')\n",
    "plt.xlabel('Time')\n",
    "plt.ylabel('Stock Price')\n",
    "plt.legend()\n",
    "plt.show()"
   ]
  },
  {
   "cell_type": "code",
   "execution_count": 41,
   "metadata": {
    "scrolled": true
   },
   "outputs": [
    {
     "name": "stdout",
     "output_type": "stream",
     "text": [
      "1/1 [==============================] - 0s 30ms/step\n",
      "Predicted Future Stock Prices:\n",
      "2023-03-25 :  51.917446\n",
      "2023-03-26 :  52.20627\n",
      "2023-03-27 :  52.89749\n",
      "2023-03-28 :  52.86624\n",
      "2023-03-29 :  51.77\n",
      "2023-03-30 :  52.47427\n",
      "2023-03-31 :  52.655033\n",
      "2023-04-01 :  52.879284\n",
      "2023-04-02 :  52.650707\n",
      "2023-04-03 :  52.898438\n",
      "2023-04-04 :  52.700638\n",
      "2023-04-05 :  51.968025\n",
      "2023-04-06 :  51.7839\n",
      "2023-04-07 :  52.394657\n",
      "2023-04-08 :  52.537556\n",
      "2023-04-09 :  51.84667\n",
      "2023-04-10 :  52.45382\n",
      "2023-04-11 :  52.323227\n",
      "2023-04-12 :  52.500004\n",
      "2023-04-13 :  52.60062\n",
      "2023-04-14 :  52.704773\n",
      "2023-04-15 :  53.024593\n",
      "2023-04-16 :  52.37765\n",
      "2023-04-17 :  52.531975\n",
      "2023-04-18 :  52.145863\n",
      "2023-04-19 :  52.489845\n",
      "2023-04-20 :  52.47431\n",
      "2023-04-21 :  51.776257\n",
      "2023-04-22 :  52.086456\n",
      "2023-04-23 :  52.98882\n"
     ]
    },
    {
     "data": {
      "image/png": "[encoded data removed]",
      "text/plain": [
       "<Figure size 640x480 with 1 Axes>"
      ]
     },
     "metadata": {},
     "output_type": "display_data"
    }
   ],
   "source": [
    "import datetime\n",
    "\n",
    "# Generate future dates for prediction (next 30 days)\n",
    "last_date = datetime.datetime.strptime(\"2023-03-24\", \"%Y-%m-%d\")\n",
    "future_dates = [last_date + datetime.timedelta(days=i) for i in range(1, 31)]\n",
    "\n",
    "# Generate features for future dates (closing prices)\n",
    "future_features = []\n",
    "\n",
    "# Assuming you have a method to generate features for future dates\n",
    "# For simplicity, let's assume future features are random values between 0 and 1\n",
    "# Replace this with your actual feature generation logic\n",
    "for _ in range(len(future_dates)):\n",
    "    future_features.append(np.random.rand())\n",
    "\n",
    "# Convert future_features to a numpy array\n",
    "future_data = np.array(future_features)\n",
    "\n",
    "# Reshape future data to match input shape expected by the model\n",
    "future_data = np.reshape(future_data, (future_data.shape[0], 1, 1))\n",
    "\n",
    "# Predict future stock prices\n",
    "future_predictions = model.predict(future_data)\n",
    "\n",
    "# Inverse transform predicted prices to get actual prices\n",
    "predicted_price = sc.inverse_transform(future_predictions)\n",
    "\n",
    "# Print the predicted future stock prices\n",
    "print(\"Predicted Future Stock Prices:\")\n",
    "for i in range(len(predicted_price)):\n",
    "    print(future_dates[i].strftime(\"%Y-%m-%d\"), \": \", predicted_price[i][0])\n",
    "\n",
    "# Plot the training model loss\n",
    "plt.plot(hist.history['loss'])\n",
    "plt.title('Training model loss')\n",
    "plt.ylabel('Loss')\n",
    "plt.xlabel('Epoch')\n",
    "plt.legend(['Train'], loc='upper left')\n",
    "plt.show()\n"
   ]
  },
  {
   "cell_type": "code",
   "execution_count": 42,
   "metadata": {},
   "outputs": [],
   "source": [
    "y_test = [\n",
    "    82.265297, 82.338799, 82.214897, 82.164299, 82.255402, 82.100502, \n",
    "    82.184799, 82.1409,   82.114799, 81.949997, 81.831299, 81.884804, \n",
    "    81.983902, 82.070099, 81.960602, 81.680702, 81.844803, 82.0037, \n",
    "    82.107903, 82.340103, 82.1409,   82.054802, 81.852303, 81.9916, \n",
    "    81.766899, 81.765099, 81.744797, 81.774696, 81.778702, 81.779999, \n",
    "]"
   ]
  },
  {
   "cell_type": "code",
   "execution_count": 43,
   "metadata": {},
   "outputs": [
    {
     "name": "stdout",
     "output_type": "stream",
     "text": [
      "Mean Absolute Error (MAE): 29.572085532674144\n",
      "Mean Squared Error (MSE): 874.6575359710121\n",
      "Root Mean Squared Error (RMSE): 29.574609650357385\n"
     ]
    }
   ],
   "source": [
    "from sklearn.metrics import mean_absolute_error, mean_squared_error\n",
    "\n",
    "# Assuming y_test contains the actual stock prices for the test data\n",
    "# Calculate Mean Absolute Error (MAE)\n",
    "mae = mean_absolute_error(y_test, predicted_price)\n",
    "\n",
    "# Calculate Mean Squared Error (MSE)\n",
    "mse = mean_squared_error(y_test, predicted_price)\n",
    "\n",
    "# Calculate Root Mean Squared Error (RMSE)\n",
    "rmse = np.sqrt(mse)\n",
    "\n",
    "print(\"Mean Absolute Error (MAE):\", mae)\n",
    "print(\"Mean Squared Error (MSE):\", mse)\n",
    "print(\"Root Mean Squared Error (RMSE):\", rmse)"
   ]
  },
  {
   "cell_type": "code",
   "execution_count": null,
   "metadata": {},
   "outputs": [],
   "source": []
  },
  {
   "cell_type": "code",
   "execution_count": null,
   "metadata": {},
   "outputs": [],
   "source": []
  }
 ],
 "metadata": {
  "kernelspec": {
   "display_name": "Python 3 (ipykernel)",
   "language": "python",
   "name": "python3"
  },
  "language_info": {
   "codemirror_mode": {
    "name": "ipython",
    "version": 3
   },
   "file_extension": ".py",
   "mimetype": "text/x-python",
   "name": "python",
   "nbconvert_exporter": "python",
   "pygments_lexer": "ipython3",
   "version": "3.9.13"
  }
 },
 "nbformat": 4,
 "nbformat_minor": 4
}
